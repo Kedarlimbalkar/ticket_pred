{
  "nbformat": 4,
  "nbformat_minor": 0,
  "metadata": {
    "colab": {
      "provenance": [],
      "toc_visible": true,
      "authorship_tag": "ABX9TyNgCJ6KlICB6g7AdDZjsUE1",
      "include_colab_link": true
    },
    "kernelspec": {
      "name": "python3",
      "display_name": "Python 3"
    },
    "language_info": {
      "name": "python"
    }
  },
  "cells": [
    {
      "cell_type": "markdown",
      "metadata": {
        "id": "view-in-github",
        "colab_type": "text"
      },
      "source": [
        "<a href=\"https://colab.research.google.com/github/Kedarlimbalkar/ticket_pred/blob/main/ticket_prediction.ipynb\" target=\"_parent\"><img src=\"https://colab.research.google.com/assets/colab-badge.svg\" alt=\"Open In Colab\"/></a>"
      ]
    },
    {
      "cell_type": "code",
      "execution_count": 1,
      "metadata": {
        "colab": {
          "base_uri": "https://localhost:8080/"
        },
        "id": "JDaUpWeyoksH",
        "outputId": "19e912c2-b188-4c55-eeb6-bae0e27d7c29"
      },
      "outputs": [
        {
          "output_type": "stream",
          "name": "stdout",
          "text": [
            "Sample Data Head:\n",
            "            Subject            Category\n",
            "0  Issue summary 0  Account Management\n",
            "1  Issue summary 1          Bug Report\n",
            "2  Issue summary 2          Bug Report\n",
            "3  Issue summary 3     Billing Inquiry\n",
            "4  Issue summary 4  Account Management\n"
          ]
        }
      ],
      "source": [
        "import pandas as pd\n",
        "import numpy as np\n",
        "import random\n",
        "from sklearn.model_selection import train_test_split\n",
        "\n",
        "# --- 1. Define Project Data and Categories ---\n",
        "# The target variable is 'Category'[cite: 21].\n",
        "TICKET_CATEGORIES = [\n",
        "    \"Bug Report\", \"Feature Request\", \"Technical Issue\",\n",
        "    \"Billing Inquiry\", \"Account Management\"\n",
        "] # Based on Key Ticket Categories [cite: 11, 13, 14, 16, 19]\n",
        "\n",
        "# Simulate a dataset structure (as per specification [cite: 21])\n",
        "def create_sample_data(num_samples=1000):\n",
        "    data = {\n",
        "        'Ticket ID': range(1, num_samples + 1),\n",
        "        'Subject': [f\"Issue summary {i}\" for i in range(num_samples)],\n",
        "        'Description': [f\"Detailed problem description requiring {random.choice(TICKET_CATEGORIES)} assistance.\" for i in range(num_samples)],\n",
        "        'Category': [random.choice(TICKET_CATEGORIES) for _ in range(num_samples)],\n",
        "        'Priority': [random.choice(['High', 'Medium', 'Low']) for _ in range(num_samples)],\n",
        "        'Timestamp': pd.to_datetime('2023-01-01') + pd.to_timedelta(np.arange(num_samples), unit='h')\n",
        "    }\n",
        "    return pd.DataFrame(data)\n",
        "\n",
        "df = create_sample_data()\n",
        "print(\"Sample Data Head:\\n\", df[['Subject', 'Category']].head())\n",
        "\n",
        "# Split the data into training and testing sets\n",
        "X = df['Description'] # Using 'Description' (Long Text) as the primary input feature [cite: 21]\n",
        "y = df['Category']\n",
        "X_train, X_test, y_train, y_test = train_test_split(X, y, test_size=0.2, random_state=42)"
      ]
    },
    {
      "cell_type": "code",
      "source": [
        "import nltk\n",
        "from nltk.corpus import stopwords\n",
        "from nltk.stem import WordNetLemmatizer\n",
        "import re\n",
        "\n",
        "# Download necessary NLTK resources (run once)\n",
        "nltk.download('punkt')\n",
        "nltk.download('stopwords')\n",
        "nltk.download('wordnet')\n",
        "nltk.download('punkt_tab')\n",
        "\n",
        "lemmatizer = WordNetLemmatizer()\n",
        "stop_words = set(stopwords.words('english'))\n",
        "\n",
        "def preprocess_text(text):\n",
        "    # Convert to lowercase and remove non-alphanumeric characters\n",
        "    text = re.sub(r'[^a-zA-Z\\s]', '', text.lower())\n",
        "    # Tokenization\n",
        "    words = nltk.word_tokenize(text)\n",
        "    # Remove stopwords and lemmatize\n",
        "    words = [lemmatizer.lemmatize(word) for word in words if word not in stop_words]\n",
        "    return \" \".join(words)\n",
        "\n",
        "# Apply preprocessing to the training data\n",
        "X_train_processed = X_train.apply(preprocess_text)\n",
        "X_test_processed = X_test.apply(preprocess_text)\n",
        "\n",
        "print(\"\\nSample Processed Text:\\n\", X_train_processed.iloc[0])"
      ],
      "metadata": {
        "colab": {
          "base_uri": "https://localhost:8080/"
        },
        "id": "5BIDhDPbo2Dc",
        "outputId": "fe11274c-290b-4511-a062-fd5075d66cc0"
      },
      "execution_count": 4,
      "outputs": [
        {
          "output_type": "stream",
          "name": "stderr",
          "text": [
            "[nltk_data] Downloading package punkt to /root/nltk_data...\n",
            "[nltk_data]   Package punkt is already up-to-date!\n",
            "[nltk_data] Downloading package stopwords to /root/nltk_data...\n",
            "[nltk_data]   Package stopwords is already up-to-date!\n",
            "[nltk_data] Downloading package wordnet to /root/nltk_data...\n",
            "[nltk_data]   Package wordnet is already up-to-date!\n",
            "[nltk_data] Downloading package punkt_tab to /root/nltk_data...\n",
            "[nltk_data]   Unzipping tokenizers/punkt_tab.zip.\n"
          ]
        },
        {
          "output_type": "stream",
          "name": "stdout",
          "text": [
            "\n",
            "Sample Processed Text:\n",
            " detailed problem description requiring technical issue assistance\n"
          ]
        }
      ]
    },
    {
      "cell_type": "code",
      "source": [
        "from sklearn.feature_extraction.text import TfidfVectorizer\n",
        "from sklearn.linear_model import LogisticRegression\n",
        "from sklearn.pipeline import Pipeline\n",
        "from sklearn.metrics import accuracy_score, precision_recall_fscore_support\n",
        "\n",
        "# --- 3a. Build and Train the Model (scikit-learn) ---\n",
        "# Use a Pipeline to combine vectorizer and classifier\n",
        "text_classifier = Pipeline([\n",
        "    ('tfidf', TfidfVectorizer(max_features=5000)),\n",
        "    ('clf', LogisticRegression(random_state=42, max_iter=1000))\n",
        "])\n",
        "\n",
        "print(\"\\nTraining the model...\")\n",
        "text_classifier.fit(X_train_processed, y_train)\n",
        "\n",
        "# --- 3b. Prediction and Evaluation ---\n",
        "y_pred = text_classifier.predict(X_test_processed)\n",
        "\n",
        "# Calculate the required metrics (Evaluation Framework )\n",
        "accuracy = accuracy_score(y_test, y_pred)\n",
        "precision, recall, fscore, _ = precision_recall_fscore_support(\n",
        "    y_test, y_pred, average='weighted', zero_division=0\n",
        ")\n",
        "\n",
        "print(\"\\n--- Model Evaluation Results ---\")\n",
        "# Metrics specified in the Evaluation Framework [cite: 38, 40, 44]\n",
        "print(f\"Accuracy (40% weight): {accuracy:.4f}\")\n",
        "print(f\"Precision (part of 30% weight): {precision:.4f}\")\n",
        "print(f\"Recall (part of 30% weight): {recall:.4f}\")\n",
        "print(f\"F1-Score (20% weight): {fscore:.4f}\")\n",
        "\n",
        "# Latency (10% weight) would require a real-time test (simulated here)\n",
        "# In a real API, this would be measured using timing tools.\n",
        "import time\n",
        "start_time = time.time()\n",
        "text_classifier.predict(X_test_processed.iloc[0:1]) # Classify a single ticket\n",
        "end_time = time.time()\n",
        "latency = (end_time - start_time) * 1000 # in milliseconds\n",
        "print(f\"Simulated Latency for single classification (10% weight): {latency:.2f} ms\")"
      ],
      "metadata": {
        "colab": {
          "base_uri": "https://localhost:8080/"
        },
        "id": "6w3fMT-xo8r7",
        "outputId": "e001216b-25c5-4404-f649-2f2f8e0248de"
      },
      "execution_count": 5,
      "outputs": [
        {
          "output_type": "stream",
          "name": "stdout",
          "text": [
            "\n",
            "Training the model...\n",
            "\n",
            "--- Model Evaluation Results ---\n",
            "Accuracy (40% weight): 0.2100\n",
            "Precision (part of 30% weight): 0.1222\n",
            "Recall (part of 30% weight): 0.2100\n",
            "F1-Score (20% weight): 0.1490\n",
            "Simulated Latency for single classification (10% weight): 3.34 ms\n"
          ]
        }
      ]
    },
    {
      "cell_type": "code",
      "source": [
        "# --- 4. Conceptual API Endpoint ---\n",
        "# In a real environment, this model would be saved (e.g., using joblib/pickle)\n",
        "# and loaded by a Flask/FastAPI application.\n",
        "\n",
        "def classify_ticket_api(new_ticket_description):\n",
        "    \"\"\"\n",
        "    Conceptual function for the API Endpoint[cite: 30].\n",
        "    \"\"\"\n",
        "    # Preprocess the new ticket description\n",
        "    processed_text = preprocess_text(new_ticket_description)\n",
        "\n",
        "    # Classify the ticket using the trained model\n",
        "    predicted_category = text_classifier.predict([processed_text])[0]\n",
        "\n",
        "    return {\"predicted_category\": predicted_category}\n",
        "\n",
        "# Example usage for the API\n",
        "new_ticket = \"The app crashes every time I try to save my profile changes. I think this is a bug.\"\n",
        "prediction = classify_ticket_api(new_ticket)\n",
        "print(\"\\nNew Ticket Classification:\", prediction)"
      ],
      "metadata": {
        "colab": {
          "base_uri": "https://localhost:8080/"
        },
        "id": "wt_L7bJdpZcf",
        "outputId": "485cfe80-22ba-4c8c-b3f1-fd756b0be48f"
      },
      "execution_count": 6,
      "outputs": [
        {
          "output_type": "stream",
          "name": "stdout",
          "text": [
            "\n",
            "New Ticket Classification: {'predicted_category': 'Account Management'}\n"
          ]
        }
      ]
    },
    {
      "cell_type": "code",
      "source": [],
      "metadata": {
        "id": "umceMN2MpcnJ"
      },
      "execution_count": null,
      "outputs": []
    }
  ]
}